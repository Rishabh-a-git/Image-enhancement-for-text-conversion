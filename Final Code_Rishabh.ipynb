{
 "cells": [
  {
   "cell_type": "code",
   "execution_count": 1,
   "metadata": {},
   "outputs": [],
   "source": [
    "import numpy as np\n",
    "import cv2\n",
    "import math\n",
    "from scipy import ndimage\n",
    "from PIL import Image \n",
    "from PIL import ImageEnhance"
   ]
  },
  {
   "cell_type": "code",
   "execution_count": 3,
   "metadata": {},
   "outputs": [
    {
     "name": "stdout",
     "output_type": "stream",
     "text": [
      "Enter Image Name image_5.jpg\n"
     ]
    }
   ],
   "source": [
    "xyz= input(\"Enter Image Name \")"
   ]
  },
  {
   "cell_type": "code",
   "execution_count": 4,
   "metadata": {},
   "outputs": [
    {
     "name": "stdout",
     "output_type": "stream",
     "text": [
      "Angle is 0.0\n"
     ]
    }
   ],
   "source": [
    "#Angle\n",
    "img_before = cv2.imread(xyz)\n",
    "\n",
    "#cv2.imshow(\"Before\", img_before)    \n",
    "key = cv2.waitKey(0)\n",
    "\n",
    "img_gray = cv2.cvtColor(img_before, cv2.COLOR_BGR2GRAY)\n",
    "img_edges = cv2.Canny(img_gray, 100, 100, apertureSize=3)\n",
    "lines = cv2.HoughLinesP(img_edges, 1, math.pi / 180.0, 100, minLineLength=100, maxLineGap=5)\n",
    "\n",
    "angles = []\n",
    "\n",
    "for x1, y1, x2, y2 in lines[0]:\n",
    "    cv2.line(img_before, (x1, y1), (x2, y2), (255, 0, 0), 3)\n",
    "    angle = math.degrees(math.atan2(y2 - y1, x2 - x1))\n",
    "    angles.append(angle)\n",
    "\n",
    "median_angle = np.median(angles)\n",
    "img_rotated = ndimage.rotate(img_before, median_angle)\n",
    "\n",
    "print (\"Angle is {}\".format(median_angle))"
   ]
  },
  {
   "cell_type": "code",
   "execution_count": 5,
   "metadata": {},
   "outputs": [
    {
     "name": "stdout",
     "output_type": "stream",
     "text": [
      "Enter new name for image Zmid1.jpg\n"
     ]
    }
   ],
   "source": [
    "nameim = input('Enter new name for image ')"
   ]
  },
  {
   "cell_type": "code",
   "execution_count": 6,
   "metadata": {},
   "outputs": [
    {
     "data": {
      "text/plain": [
       "True"
      ]
     },
     "execution_count": 6,
     "metadata": {},
     "output_type": "execute_result"
    }
   ],
   "source": [
    "cv2.imwrite(nameim,img_rotated)"
   ]
  },
  {
   "cell_type": "code",
   "execution_count": null,
   "metadata": {},
   "outputs": [],
   "source": []
  },
  {
   "cell_type": "code",
   "execution_count": 7,
   "metadata": {},
   "outputs": [
    {
     "name": "stdout",
     "output_type": "stream",
     "text": [
      "Image data: \n",
      "Format:JPEG\n",
      "Width: 3024\n",
      "Height: 2024\n",
      "No DPI data. Invalid Image header\n",
      "{'jfif': 257, 'jfif_version': (1, 1), 'jfif_unit': 0, 'jfif_density': (1, 1)}\n"
     ]
    }
   ],
   "source": [
    "#DPI\n",
    "image_file = Image.open(nameim)\n",
    "print(\"Image data: \")\n",
    "print(\"Format:\" + image_file.format)\n",
    "width, height  = image_file.size\n",
    "print(\"Width: \" + str(width))\n",
    "print(\"Height: \" + str(height))\n",
    "if image_file.info.get('dpi'):\n",
    "    x_dpi, y_dpi = image_file.info['dpi']\n",
    "    if x_dpi != y_dpi:\n",
    "        print('Inconsistent DPI image data')\n",
    "    print(\"x_dpi: \" + str(x_dpi))\n",
    "    print(\"y_dpi: \" + str(y_dpi))\n",
    "else:\n",
    "    print('No DPI data. Invalid Image header')\n",
    "    print(image_file.info)"
   ]
  },
  {
   "cell_type": "code",
   "execution_count": 8,
   "metadata": {},
   "outputs": [
    {
     "name": "stdout",
     "output_type": "stream",
     "text": [
      "62.77304825632109\n"
     ]
    }
   ],
   "source": [
    "#blurscore\n",
    "im = Image.open(nameim).convert('L') # to grayscale\n",
    "array = np.asarray(im, dtype=np.int32)\n",
    "\n",
    "gy, gx = np.gradient(array)\n",
    "gnorm = np.sqrt(gx**2 + gy**2)\n",
    "sharpness = np.average(gnorm)\n",
    "blurscr=(10*sharpness)\n",
    "print(blurscr)"
   ]
  },
  {
   "cell_type": "code",
   "execution_count": 9,
   "metadata": {},
   "outputs": [],
   "source": [
    "if (blurscr<100):\n",
    "    if(blurscr<10):\n",
    "        sha=100\n",
    "    elif(blurscr<50):\n",
    "        sha=40\n",
    "    elif(blurscr<75):\n",
    "        sha=10\n",
    "    elif(blurscr<99):\n",
    "        sha=5\n",
    "    else:\n",
    "        sha=1     "
   ]
  },
  {
   "cell_type": "code",
   "execution_count": 10,
   "metadata": {},
   "outputs": [],
   "source": [
    "img = Image.open(nameim)\n",
    "enhd = ImageEnhance.Sharpness(img)\n",
    "enhd = enhd.enhance(sha)"
   ]
  },
  {
   "cell_type": "code",
   "execution_count": 11,
   "metadata": {},
   "outputs": [
    {
     "name": "stdout",
     "output_type": "stream",
     "text": [
      "Enter a name again to save Zmid2.jpg\n"
     ]
    }
   ],
   "source": [
    "saveimg = input(\"Enter a name again to save \")"
   ]
  },
  {
   "cell_type": "code",
   "execution_count": 12,
   "metadata": {},
   "outputs": [],
   "source": [
    "enhd.save(saveimg)"
   ]
  },
  {
   "cell_type": "code",
   "execution_count": null,
   "metadata": {},
   "outputs": [],
   "source": []
  },
  {
   "cell_type": "code",
   "execution_count": 13,
   "metadata": {},
   "outputs": [],
   "source": [
    "#noise\n",
    "image_file = Image.open(nameim) # open colour image\n",
    "image_file= image_file.convert('L')"
   ]
  },
  {
   "cell_type": "code",
   "execution_count": null,
   "metadata": {},
   "outputs": [],
   "source": []
  },
  {
   "cell_type": "code",
   "execution_count": null,
   "metadata": {},
   "outputs": [],
   "source": []
  },
  {
   "cell_type": "code",
   "execution_count": 14,
   "metadata": {},
   "outputs": [],
   "source": [
    "def noise(img):\n",
    "    # load color image\n",
    "    im = cv2.imread(img)\n",
    "# smooth the image with alternative closing and opening\n",
    "# with an enlarging kernel\n",
    "    morph = im.copy()\n",
    "    kernel = cv2.getStructuringElement(cv2.MORPH_RECT, (1, 1))\n",
    "    morph = cv2.morphologyEx(morph, cv2.MORPH_CLOSE, kernel)\n",
    "    morph = cv2.morphologyEx(morph, cv2.MORPH_OPEN, kernel)\n",
    "    kernel = cv2.getStructuringElement(cv2.MORPH_RECT, (2, 2))\n",
    "# take morphological gradient\n",
    "#gradient_image = cv2.morphologyEx(morph, cv2.MORPH_GRADIENT, kernel)\n",
    "# split the gradient image into channels\n",
    "    image_channels = np.split(np.asarray(morph), 3, axis=2)\n",
    "    channel_height, channel_width, _ = image_channels[0].shape\n",
    "# apply Otsu threshold to each channel\n",
    "    for i in range(0, 3):\n",
    "        _, image_channels[i] = cv2.threshold(image_channels[i], 0, 255, cv2.THRESH_OTSU | cv2.THRESH_BINARY)\n",
    "        image_channels[i] = np.reshape(image_channels[i], newshape=(channel_height, channel_width, 1))\n",
    "# merge the channels\n",
    "    image_channels = np.concatenate((image_channels[0], image_channels[1], image_channels[2]), axis=2)\n",
    "# save the denoised image\n",
    "    cv2.imwrite('output.jpg', image_channels)\n",
    "    \n"
   ]
  },
  {
   "cell_type": "code",
   "execution_count": 15,
   "metadata": {},
   "outputs": [],
   "source": [
    "noise(saveimg)"
   ]
  },
  {
   "cell_type": "code",
   "execution_count": null,
   "metadata": {},
   "outputs": [],
   "source": []
  }
 ],
 "metadata": {
  "kernelspec": {
   "display_name": "Python 3",
   "language": "python",
   "name": "python3"
  },
  "language_info": {
   "codemirror_mode": {
    "name": "ipython",
    "version": 3
   },
   "file_extension": ".py",
   "mimetype": "text/x-python",
   "name": "python",
   "nbconvert_exporter": "python",
   "pygments_lexer": "ipython3",
   "version": "3.7.3"
  }
 },
 "nbformat": 4,
 "nbformat_minor": 2
}
